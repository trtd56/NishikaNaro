{
 "cells": [
  {
   "cell_type": "code",
   "execution_count": 1,
   "metadata": {},
   "outputs": [],
   "source": [
    "import pandas as pd\n",
    "from sklearn.model_selection import StratifiedKFold\n",
    "from sklearn.linear_model import LogisticRegression\n",
    "from sklearn.metrics import log_loss\n",
    "import numpy as np\n",
    "\n",
    "%matplotlib inline"
   ]
  },
  {
   "cell_type": "code",
   "execution_count": 2,
   "metadata": {},
   "outputs": [],
   "source": [
    "class GCF:\n",
    "    N_FOLDS = 5\n",
    "    SEED = 0"
   ]
  },
  {
   "cell_type": "code",
   "execution_count": 3,
   "metadata": {},
   "outputs": [],
   "source": [
    "train_df = pd.read_csv(\"data/train.csv\")\n",
    "test_df = pd.read_csv(\"data/test.csv\")\n",
    "sub = pd.read_csv(\"data/sample_submission.csv\")"
   ]
  },
  {
   "cell_type": "code",
   "execution_count": 5,
   "metadata": {},
   "outputs": [],
   "source": [
    "skf = StratifiedKFold(n_splits=GCF.N_FOLDS, random_state=GCF.SEED, shuffle=True).split(train_df.index, train_df['fav_novel_cnt_bin'].values)\n",
    "for fold, (_, valid_index) in enumerate(skf):\n",
    "    train_df.loc[valid_index, 'fold'] = fold"
   ]
  },
  {
   "cell_type": "code",
   "execution_count": 6,
   "metadata": {},
   "outputs": [],
   "source": [
    "bin_feat_name = ['end', 'isstop', 'isr15', 'isbl', 'isgl', 'iszankoku', 'istensei', 'istenni']\n",
    "\n",
    "def get_category_features(fit_df):\n",
    "    new_feat_df = pd.DataFrame({\n",
    "        'novel_type_bin': fit_df['novel_type'].map(lambda x: x - 1),\n",
    "        'write_ketai': fit_df['pc_or_k'].map(lambda x: int(x in [1, 3])),\n",
    "        'write_pc': fit_df['pc_or_k'].map(lambda x: int(x in [2, 3])),\n",
    "    })\n",
    "\n",
    "    biggenre_df = pd.get_dummies(fit_df['biggenre'])\n",
    "    biggenre_df.columns = [f\"biggenre_{c}\" for c in biggenre_df.columns]\n",
    "\n",
    "    genre_df = pd.get_dummies(fit_df['genre'])\n",
    "    genre_df.columns = [f\"genre_{c}\" for c in genre_df.columns]\n",
    "\n",
    "    cate_feat_df = pd.concat([\n",
    "        fit_df[bin_feat_name],\n",
    "        new_feat_df,\n",
    "        biggenre_df,\n",
    "        genre_df\n",
    "    ], axis=1)\n",
    "    \n",
    "    return cate_feat_df"
   ]
  },
  {
   "cell_type": "code",
   "execution_count": 7,
   "metadata": {},
   "outputs": [],
   "source": [
    "import MeCab\n",
    "tagger = MeCab.Tagger(\"-Ochasen\")"
   ]
  },
  {
   "cell_type": "code",
   "execution_count": 8,
   "metadata": {},
   "outputs": [],
   "source": [
    "text ='暗い窓辺と皇帝の北の宮'\n",
    "\n",
    "def sp_mecab(text):\n",
    "    wakati = [t for t in tagger.parse(text).split('\\n')  if t not in [\"\", \"EOS\"]]\n",
    "    sp_text = [w.split('\\t')[0] for w in wakati]\n",
    "    return ' '.join(sp_text)"
   ]
  },
  {
   "cell_type": "code",
   "execution_count": 9,
   "metadata": {},
   "outputs": [],
   "source": [
    "from sklearn.feature_extraction.text import CountVectorizer"
   ]
  },
  {
   "cell_type": "code",
   "execution_count": 10,
   "metadata": {},
   "outputs": [],
   "source": [
    "corpus = train_df['title'].map(sp_mecab).tolist()"
   ]
  },
  {
   "cell_type": "code",
   "execution_count": 11,
   "metadata": {},
   "outputs": [
    {
     "name": "stderr",
     "output_type": "stream",
     "text": [
      "/usr/local/var/pyenv/versions/3.8.10/lib/python3.8/site-packages/sklearn/utils/deprecation.py:87: FutureWarning: Function get_feature_names is deprecated; get_feature_names is deprecated in 1.0 and will be removed in 1.2. Please use get_feature_names_out instead.\n",
      "  warnings.warn(msg, category=FutureWarning)\n"
     ]
    }
   ],
   "source": [
    "vectorizer = CountVectorizer()\n",
    "bow = vectorizer.fit_transform(corpus)\n",
    "\n",
    "title_bow_df =pd.DataFrame(bow.toarray(), columns=vectorizer.get_feature_names())"
   ]
  },
  {
   "cell_type": "code",
   "execution_count": 12,
   "metadata": {},
   "outputs": [],
   "source": [
    "X = pd.concat([\n",
    "    get_category_features(train_df),\n",
    "    title_bow_df,\n",
    "], axis=1)\n",
    "y = train_df['fav_novel_cnt_bin']"
   ]
  },
  {
   "cell_type": "code",
   "execution_count": 15,
   "metadata": {},
   "outputs": [
    {
     "name": "stderr",
     "output_type": "stream",
     "text": [
      "/usr/local/var/pyenv/versions/3.8.10/lib/python3.8/site-packages/sklearn/linear_model/_logistic.py:814: ConvergenceWarning: lbfgs failed to converge (status=1):\n",
      "STOP: TOTAL NO. of ITERATIONS REACHED LIMIT.\n",
      "\n",
      "Increase the number of iterations (max_iter) or scale the data as shown in:\n",
      "    https://scikit-learn.org/stable/modules/preprocessing.html\n",
      "Please also refer to the documentation for alternative solver options:\n",
      "    https://scikit-learn.org/stable/modules/linear_model.html#logistic-regression\n",
      "  n_iter_i = _check_optimize_result(\n"
     ]
    }
   ],
   "source": [
    "oof = np.zeros((len(train_df), 5))\n",
    "for fold in range(GCF.N_FOLDS):\n",
    "    train_idx = train_df.query(f'fold!={fold}').index\n",
    "    valid_idx = train_df.query(f'fold=={fold}').index\n",
    "    \n",
    "    X_train = X.loc[train_idx].values\n",
    "    X_valid = X.loc[valid_idx].values\n",
    "    y_train = y.loc[train_idx].values\n",
    "    y_valid = y.loc[valid_idx].values\n",
    "    \n",
    "    clf = LogisticRegression()\n",
    "    clf.fit(X_train, y_train)\n",
    "    \n",
    "    pred_train = clf.predict_proba(X_train)\n",
    "    pred_valid = clf.predict_proba(X_valid)\n",
    "    \n",
    "    oof[valid_idx, :] = pred_valid\n",
    "    break"
   ]
  },
  {
   "cell_type": "code",
   "execution_count": 16,
   "metadata": {},
   "outputs": [],
   "source": []
  },
  {
   "cell_type": "code",
   "execution_count": null,
   "metadata": {},
   "outputs": [],
   "source": [
    "(y_valid.values == pred_valid.argmax(1)).sum() / len(y_valid)"
   ]
  },
  {
   "cell_type": "code",
   "execution_count": null,
   "metadata": {},
   "outputs": [],
   "source": [
    "pred_train"
   ]
  },
  {
   "cell_type": "code",
   "execution_count": null,
   "metadata": {},
   "outputs": [],
   "source": [
    "(pred_train * np.array([np.eye(5)[i] for i in y_train])).sum(1)"
   ]
  },
  {
   "cell_type": "code",
   "execution_count": 14,
   "metadata": {},
   "outputs": [],
   "source": []
  },
  {
   "cell_type": "code",
   "execution_count": null,
   "metadata": {},
   "outputs": [],
   "source": [
    "val_pred = model.predict(val_x, num_iteration=model.best_iteration)\n",
    "val_pred_max = np.argmax(val_pred, axis=1)  # 最尤と判断したクラスの値にする\n",
    "accuracy = sum(val_y == val_pred_max) / len(val_y)\n",
    "print(accuracy)"
   ]
  },
  {
   "cell_type": "code",
   "execution_count": null,
   "metadata": {},
   "outputs": [],
   "source": [
    "reg = LinearRegression()\n",
    "reg.fit(X_train, y_train)"
   ]
  },
  {
   "cell_type": "code",
   "execution_count": null,
   "metadata": {},
   "outputs": [],
   "source": [
    "pd.DataFrame(reg.predict(X_valid)).hist(bins=100)"
   ]
  },
  {
   "cell_type": "code",
   "execution_count": 93,
   "metadata": {},
   "outputs": [],
   "source": [
    "from sklearn.linear_model import LinearRegression"
   ]
  },
  {
   "cell_type": "code",
   "execution_count": null,
   "metadata": {},
   "outputs": [],
   "source": []
  }
 ],
 "metadata": {
  "kernelspec": {
   "display_name": "Python 3 (ipykernel)",
   "language": "python",
   "name": "python3"
  },
  "language_info": {
   "codemirror_mode": {
    "name": "ipython",
    "version": 3
   },
   "file_extension": ".py",
   "mimetype": "text/x-python",
   "name": "python",
   "nbconvert_exporter": "python",
   "pygments_lexer": "ipython3",
   "version": "3.8.10"
  }
 },
 "nbformat": 4,
 "nbformat_minor": 2
}
